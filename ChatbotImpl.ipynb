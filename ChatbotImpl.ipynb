{
 "cells": [
  {
   "cell_type": "code",
   "execution_count": 235,
   "metadata": {},
   "outputs": [],
   "source": [
    "#importing all the required libraries\n",
    "import pandas as pd\n",
    "import numpy as np\n",
    "import pickle\n",
    "from textwrap import wrap\n",
    "import re\n",
    "\n",
    "import matplotlib.pyplot as plt\n",
    "from skimage import io\n",
    "\n",
    "import nltk\n",
    "from nltk.corpus import stopwords\n",
    "from nltk.stem import SnowballStemmer\n",
    "from nltk.tokenize import RegexpTokenizer\n",
    "\n",
    "from gensim.models.doc2vec import Doc2Vec\n",
    "from gensim.test.utils import get_tmpfile\n",
    "from sklearn.feature_extraction.text import TfidfVectorizer\n",
    "from sklearn.metrics.pairwise import cosine_similarity\n",
    "from sklearn.decomposition import TruncatedSVD\n",
    "from scipy import sparse\n",
    "\n",
    "from smart_open import open"
   ]
  },
  {
   "cell_type": "code",
   "execution_count": 236,
   "metadata": {
    "collapsed": true
   },
   "outputs": [
    {
     "name": "stderr",
     "output_type": "stream",
     "text": [
      "C:\\Users\\lenovo\\Anaconda3\\lib\\site-packages\\smart_open\\smart_open_lib.py:398: UserWarning: This function is deprecated, use smart_open.open instead. See the migration notes for details: https://github.com/RaRe-Technologies/smart_open/blob/master/README.rst#migrating-to-the-new-open-function\n",
      "  'See the migration notes for details: %s' % _MIGRATION_NOTES_URL\n"
     ]
    }
   ],
   "source": [
    "'''doc2Vec = Doc2Vec.load(\"doc2vecModel\")\n",
    "tfidf = pickle.load(open(\"tfidf_model.pkl\", \"rb\"))\n",
    "svd = pickle.load(open(\"svd_model.pkl\",\"rb\"))\n",
    "doc2VecFeatureMatrix = pickle.load(open(\"doc2vecEmbeddings.pkl\",\"rb\"))\n",
    "df = df = pd.read_pickle(\"MusicData.pkl\")\n",
    "svdFeatureMatrix = pickle.load(open(\"lsa_embedding.pkl\",\"rb\"))\n",
    "hal = sia()'''\n",
    "\n",
    "#Loading all the dumped pickles while training\n",
    "doc2Vec = Doc2Vec.load(\"NewModels/doc2vecModel\")\n",
    "tfidf = pickle.load(open(\"NewModels/tfidf_model.pkl\", \"rb\"))\n",
    "svd = pickle.load(open(\"NewModels/svd_model.pkl\",\"rb\"))\n",
    "doc2VecFeatureMatrix = pickle.load(open(\"NewModels/doc2vecEmbeddings.pkl\",\"rb\"))\n",
    "df = df = pd.read_pickle(\"MusicData.pkl\")\n",
    "svdFeatureMatrix = pickle.load(open(\"NewModels/lsa_embedding.pkl\",\"rb\"))\n",
    "hal = sia()"
   ]
  },
  {
   "cell_type": "code",
   "execution_count": 237,
   "metadata": {},
   "outputs": [],
   "source": [
    "#For preprocessing the text query through chatbot\n",
    "def clean_message(message):\n",
    "        message = make_lower_case(message)\n",
    "        message = remove_stop_words(message)\n",
    "        message = remove_punctuation(message)\n",
    "        message = stem_words(message)\n",
    "        return message\n",
    "\n",
    "def stem_words(text):\n",
    "    text = text.split()\n",
    "    stemmer = SnowballStemmer('english')\n",
    "    stemmed_words = [stemmer.stem(word) for word in text]\n",
    "    text = \" \".join(stemmed_words)\n",
    "    return text\n",
    "\n",
    "\n",
    "def make_lower_case(text):\n",
    "    return text.lower()\n",
    "\n",
    "\n",
    "def remove_stop_words(text):\n",
    "    text = text.split()\n",
    "    stops = set(stopwords.words(\"english\"))\n",
    "    text = [w for w in text if not w in stops]\n",
    "    text = \" \".join(text)\n",
    "    return text\n",
    "\n",
    "\n",
    "def remove_punctuation(text):\n",
    "    tokenizer = RegexpTokenizer(r'\\w+')\n",
    "    text = tokenizer.tokenize(text)\n",
    "    text = \" \".join(text)\n",
    "    return text"
   ]
  },
  {
   "cell_type": "code",
   "execution_count": 238,
   "metadata": {},
   "outputs": [],
   "source": [
    "#To get sentiments in the search query\n",
    "def get_message_sentiment(message):\n",
    "        sentences = re.split('\\.|\\but',message)\n",
    "        sentences = [x for x in sentences if x != \"\"]\n",
    "        love_message = \"\"\n",
    "        hate_message = \"\"\n",
    "        for s in sentences:\n",
    "            sentiment_scores = hal.polarity_scores(s)\n",
    "            if sentiment_scores['neg'] > 0:\n",
    "                hate_message = hate_message + s\n",
    "            else:\n",
    "                love_message = love_message + s\n",
    "        return(love_message, hate_message)"
   ]
  },
  {
   "cell_type": "code",
   "execution_count": 239,
   "metadata": {},
   "outputs": [],
   "source": [
    "#Getting tfidf of the message\n",
    "def get_message_tfidf_embedding_vector(message):\n",
    "        #print(message)\n",
    "        message_array = tfidf.transform([message]).toarray()\n",
    "        #print(message_array)\n",
    "        message_array = svd.transform(message_array)\n",
    "        message_array = message_array[:,0:25].reshape(1, -1)\n",
    "        #print(message_array)\n",
    "        return message_array\n",
    "\n",
    "\n"
   ]
  },
  {
   "cell_type": "code",
   "execution_count": 240,
   "metadata": {},
   "outputs": [],
   "source": [
    "#infer vector for the search query against the trained doc2vec model\n",
    "def get_message_doctovec_embedding_vector(message):\n",
    "        #print(message)\n",
    "        message_array = doc2Vec.infer_vector(doc_words=message.split(\" \"), epochs=100)\n",
    "        message_array = message_array.reshape(1, -1)\n",
    "        return message_array\n",
    "#semantic_message_array = get_message_doctovec_embedding_vector(message)"
   ]
  },
  {
   "cell_type": "code",
   "execution_count": 241,
   "metadata": {},
   "outputs": [],
   "source": [
    "#getting Similarity scores based on the search query and document embedding\n",
    "def get_similarity_scores(message_array, embeddings):\n",
    "        cosine_sim_matrix = pd.DataFrame(cosine_similarity(X=embeddings,\n",
    "                                                           Y=message_array,\n",
    "                                                           dense_output=True))\n",
    "        cosine_sim_matrix.set_index(embeddings.index, inplace=True)\n",
    "        cosine_sim_matrix.columns = [\"cosine_similarity\"]\n",
    "        return cosine_sim_matrix"
   ]
  },
  {
   "cell_type": "code",
   "execution_count": 242,
   "metadata": {},
   "outputs": [],
   "source": [
    "#calculating the ensemble similarity scores\n",
    "\n",
    "def get_ensemble_similarity_scores(message):\n",
    "        message = clean_message(message)\n",
    "        bow_message_array = get_message_tfidf_embedding_vector(message)\n",
    "        semantic_message_array = get_message_doctovec_embedding_vector(message)\n",
    "\n",
    "        bow_similarity = get_similarity_scores(bow_message_array, svdFeatureMatrix)\n",
    "        semantic_similarity = get_similarity_scores(semantic_message_array, doc2VecFeatureMatrix)\n",
    "        ensemble_similarity = pd.merge(semantic_similarity, bow_similarity, left_index=True, right_index=True)\n",
    "        ensemble_similarity.columns = [\"semantic_similarity\", \"bow_similarity\"]\n",
    "        ensemble_similarity['ensemble_similarity'] = (ensemble_similarity[\"semantic_similarity\"] + ensemble_similarity[\"bow_similarity\"])/2\n",
    "        ensemble_similarity.sort_values(by=\"ensemble_similarity\", ascending=False, inplace=True)\n",
    "        return ensemble_similarity"
   ]
  },
  {
   "cell_type": "code",
   "execution_count": 244,
   "metadata": {},
   "outputs": [],
   "source": [
    "#calculating the disimilarity scores for the search query\n",
    "def get_dissimilarity_scores(message):\n",
    "        message = clean_message(message)\n",
    "        #print(message)\n",
    "        bow_message_array = get_message_tfidf_embedding_vector(message)\n",
    "        semantic_message_array = get_message_doctovec_embedding_vector(message)\n",
    "        #dissimilarity = get_similarity_scores(semantic_message_array, doc2VecFeatureMatrix)\n",
    "\n",
    "        dissimilarity = get_similarity_scores(bow_message_array, svdFeatureMatrix)\n",
    "        dissimilarity.columns = [\"dissimilarity\"]\n",
    "        dissimilarity.sort_values(by=\"dissimilarity\", ascending=False, inplace=True)\n",
    "        return dissimilarity"
   ]
  },
  {
   "cell_type": "code",
   "execution_count": 261,
   "metadata": {
    "scrolled": false
   },
   "outputs": [
    {
     "data": {
      "text/plain": [
       "'similar_instruments(\"Beginners and young learners alike will appreciate the quality found in this Yamaha C series classical guitar.\"\\n                    +\"This quality instrument delivers outstanding cost performance with exceptional playability and tone.\"\\n \"The C40 is a full-size nylon-string guitar.\", 3)'"
      ]
     },
     "execution_count": 261,
     "metadata": {},
     "output_type": "execute_result"
    }
   ],
   "source": [
    "#function that returns similar instrument based on the searh query\n",
    "def similar_instruments(message, n):\n",
    "        love_message, hate_message = get_message_sentiment(message)\n",
    "\n",
    "        similar_instrument = get_ensemble_similarity_scores(love_message)\n",
    "        \n",
    "        dissimilar_instrument = get_dissimilarity_scores(hate_message)\n",
    "        \n",
    "        dissimilar_instrument = dissimilar_instrument.query('dissimilarity > .3')\n",
    "        print(dissimilar_instrument)\n",
    "        similar_instrument = similar_instrument.drop(dissimilar_instrument.index)\n",
    "        print(similar_instrument)\n",
    "        return similar_instrument.head(n)\n",
    "\n"
   ]
  },
  {
   "cell_type": "code",
   "execution_count": 256,
   "metadata": {},
   "outputs": [],
   "source": [
    "#function to plot the  top 3 recommendations as output\n",
    "def recommendations(similar):\n",
    "        fig, axes = plt.subplots(nrows=1, ncols=3, figsize=(15,5))\n",
    "        ax = axes.ravel()\n",
    "\n",
    "        for i in range(len(similar)):\n",
    "            single_title = similar.index.tolist()[i]\n",
    "            #print(single_title)\n",
    "            single_instrument = df.query('Title==@single_title')\n",
    "            \n",
    "            name = single_instrument.Title.values[0]\n",
    "            \n",
    "            instrument_image = single_instrument.Url.values[0]\n",
    "            image = io.imread(instrument_image)\n",
    "            ax[i].imshow(image)\n",
    "            ax[i].set_yticklabels([])\n",
    "            ax[i].set_xticklabels([])\n",
    "            ax[i].set_title(\"\\n\".join(wrap(name, 20)))\n",
    "            ax[i].axis('off')\n",
    "\n",
    "        #plt.show()"
   ]
  },
  {
   "cell_type": "markdown",
   "metadata": {},
   "source": [
    "# Chatbot Interface"
   ]
  },
  {
   "cell_type": "code",
   "execution_count": 1,
   "metadata": {},
   "outputs": [
    {
     "name": "stdout",
     "output_type": "stream",
     "text": [
      "Describe the Music instrument  you are interested in. You can give more detailed description of it! \n"
     ]
    },
    {
     "data": {
      "application/vnd.jupyter.widget-view+json": {
       "model_id": "1e54465e6c3c49f6bc0e6825c2682699",
       "version_major": 2,
       "version_minor": 0
      },
      "text/plain": [
       "Text(value='')"
      ]
     },
     "metadata": {},
     "output_type": "display_data"
    },
    {
     "data": {
      "application/vnd.jupyter.widget-view+json": {
       "model_id": "9e7db1d2e5f343b9beea057c41af6696",
       "version_major": 2,
       "version_minor": 0
      },
      "text/plain": [
       "Button(description='Click here to restart!', style=ButtonStyle())"
      ]
     },
     "metadata": {},
     "output_type": "display_data"
    }
   ],
   "source": [
    "\n",
    "from ipywidgets import widgets\n",
    "from IPython.display import clear_output\n",
    "print(\"Describe the Music instrument  you are interested in. You can give more detailed description of it! \")\n",
    "text = widgets.Text()\n",
    "display(text)\n",
    "button = widgets.Button(description=\"Click here to restart!\")\n",
    "display(button)\n",
    "def handle_submit(sender):\n",
    "    message = text.value\n",
    "    display(message)\n",
    "    print(\"Please wait till i find relevant recommendations for you!\")\n",
    "    similar = similar_instruments(message, 3)\n",
    "    recommendations(similar)\n",
    "\n",
    "def button_click(b):\n",
    "    #out.clear_output()\n",
    "    clear_output()\n",
    "    print(\"Describe the Music instrument  you are interested in. You can give more detailed description of it! \")\n",
    "    display(text)\n",
    "    display(button)\n",
    "\n",
    "\n",
    "text.on_submit(handle_submit)\n",
    "\n",
    "button.on_click(button_click)"
   ]
  },
  {
   "cell_type": "code",
   "execution_count": null,
   "metadata": {},
   "outputs": [],
   "source": []
  }
 ],
 "metadata": {
  "kernelspec": {
   "display_name": "Python 3",
   "language": "python",
   "name": "python3"
  },
  "language_info": {
   "codemirror_mode": {
    "name": "ipython",
    "version": 3
   },
   "file_extension": ".py",
   "mimetype": "text/x-python",
   "name": "python",
   "nbconvert_exporter": "python",
   "pygments_lexer": "ipython3",
   "version": "3.7.3"
  }
 },
 "nbformat": 4,
 "nbformat_minor": 2
}
